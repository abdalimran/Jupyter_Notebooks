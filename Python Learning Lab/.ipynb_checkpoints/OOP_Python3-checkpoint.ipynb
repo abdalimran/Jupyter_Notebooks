{
 "cells": [
  {
   "cell_type": "markdown",
   "metadata": {
    "collapsed": true
   },
   "source": [
    "# Python 3 : Object oriented Programming"
   ]
  },
  {
   "cell_type": "markdown",
   "metadata": {},
   "source": [
    "# The Concept of \"Class\""
   ]
  },
  {
   "cell_type": "markdown",
   "metadata": {},
   "source": [
    "**Class:** In object-oriented programming , a class is a blueprint of a particular object which contains the methods and variables of that object. When we create an object of a class, we call it an instance of that class. An object contains real values instead of variables.\n",
    "\n",
    ">* In Python, everything is an **object** – everything is an instance of some class type. **For example:** use **type(any_object_name)**\n",
    ">* In Python, Classes and types are themselves objects, and they are of type **type**.\n",
    ">* The data values which we store inside an object are called **attributes**, and the functions which are associated with the\n",
    "object are called **methods**.\n",
    ">* Sometimes we may create objects which don’t have any kind of real-world equivalent, just because it’s useful to group\n",
    "certain functions together."
   ]
  },
  {
   "cell_type": "markdown",
   "metadata": {},
   "source": [
    "### Here is an example of a Python Class: Person.py"
   ]
  },
  {
   "cell_type": "code",
   "execution_count": 23,
   "metadata": {
    "collapsed": false,
    "scrolled": true
   },
   "outputs": [
    {
     "name": "stdout",
     "output_type": "stream",
     "text": [
      "Name: Imran\n",
      "Age: 22\n",
      "Gender: Male\n",
      "Address: Dhaka, Bangladesh.\n"
     ]
    }
   ],
   "source": [
    "class Person:\n",
    "    \n",
    "    def __init__(self, name, age, gender, address):\n",
    "        self.name = name\n",
    "        self.age = age\n",
    "        self.gender = gender\n",
    "        self.address = address\n",
    "        \n",
    "    def show_information(self):\n",
    "        print(\"Name: {}\\n\"\n",
    "              \"Age: {}\\n\"\n",
    "              \"Gender: {}\\n\"\n",
    "              \"Address: {}\".format(self.name, self.age, self.gender, self.address))\n",
    "        \n",
    "if __name__ == '__main__':\n",
    "    \n",
    "    my_person_object = Person(\"Imran\", 22, \"Male\", \"Dhaka, Bangladesh.\")\n",
    "    my_person_object.show_information()"
   ]
  },
  {
   "cell_type": "markdown",
   "metadata": {},
   "source": [
    "#### Explaination:"
   ]
  },
  {
   "cell_type": "markdown",
   "metadata": {},
   "source": [
    "* We start the class definition with the **class** keyword, followed by the **class name** and a **colon**.\n",
    "* Inside the class body, we define two functions – these are our object’s methods (**A function defined in a class is called a \"method\"**). \n",
    "* The first is called **\\_\\_init\\_\\_**, which is a special method. When we call the class object, a new instance of the class is created, and the **\\_\\_init\\_\\_**  method on this new object is immediately executed with all the parameters that we passed to the class object. The purpose of this method is thus to set up a new object using data that we have provided.\n",
    "* **\\_\\_init\\_\\_** is sometimes called the object’s constructor, because it is used similarly to the way that constructors are used in other languages, but that is not technically correct – it’s better to call it the initialiser. There is a different method called **\\_\\_new\\_\\_** which is more analogous to a constructor, but it is hardly ever used.\n",
    "\n",
    "\n",
    "* The second method **show_information()** is a custom method which shows information of the object of the Person class.\n",
    "\n",
    "\n",
    "* The both method definitions above have **self** as the first parameter, and we use this variable inside the method bodies – but we don’t appear to pass this parameter in. This is because whenever we call a method on an object, the object itself is automatically passed in as the first parameter. This gives us a way to access the object’s properties from inside the object’s methods. In Python it is explicitly exposed and a very strongly followed convention."
   ]
  },
  {
   "cell_type": "markdown",
   "metadata": {},
   "source": [
    "# Instance Attributes and Methods"
   ]
  },
  {
   "cell_type": "markdown",
   "metadata": {},
   "source": [
    "* **Instance attributes** are those which are set inside the **\\_\\_init\\_\\_** method using the **self** keyword.\n",
    "* **Instance methods** are those which have **self** as their first parameter.\n",
    "* Instance methods can **access and modify** anything previously set on the instance attributes.\n",
    "* **Example:** In the above **Person** class - name, age, gender and address are instance attributes and show_information() is the instance method."
   ]
  },
  {
   "cell_type": "markdown",
   "metadata": {},
   "source": [
    "# Class Attributes, Class Methods and Static Methods"
   ]
  },
  {
   "cell_type": "markdown",
   "metadata": {},
   "source": [
    "### Let's have a look into the modified version of the Person class: ModifiedPerson.py"
   ]
  },
  {
   "cell_type": "code",
   "execution_count": 25,
   "metadata": {
    "collapsed": false
   },
   "outputs": [
    {
     "name": "stdout",
     "output_type": "stream",
     "text": [
      "Available titles: ('Mr.', 'Mrs.')\n",
      "Name: Mr. Imran\n",
      "Age: 22\n",
      "Gender: Male\n",
      "Address: Dhaka, Bangladesh.\n"
     ]
    }
   ],
   "source": [
    "class ModifiedPerson:\n",
    "    \n",
    "    TITLES = (\"Mr.\", \"Mrs.\")\n",
    "    \n",
    "    def __init__(self, name, age, gender, address):\n",
    "        self.name = name\n",
    "        self.age = age\n",
    "        self.gender = gender\n",
    "        self.address = address\n",
    "        \n",
    "    def get_a_title(self):\n",
    "        if self.gender is \"Male\":\n",
    "            return self.TITLES[0]    # Can be accessed through self.\n",
    "        else:\n",
    "            return self.TITLES[1]\n",
    "        \n",
    "    def show_information(self):\n",
    "        print(\"Name: {} {}\\n\"\n",
    "              \"Age: {}\\n\"\n",
    "              \"Gender: {}\\n\"\n",
    "              \"Address: {}\".format(self.get_a_title(), self.name, self.age, self.gender, self.address))\n",
    "        \n",
    "if __name__ == '__main__':\n",
    "    \n",
    "    print(\"Available titles:\", ModifiedPerson.TITLES)   # Can be accessed through the class name.\n",
    "    \n",
    "    my_person_object = ModifiedPerson(\"Imran\", 22, \"Male\", \"Dhaka, Bangladesh.\")\n",
    "    my_person_object.show_information()"
   ]
  },
  {
   "cell_type": "markdown",
   "metadata": {},
   "source": [
    "**Class attributes:**\n",
    "* **Class attributes** are those which are **declared in the body of a class**, at the same indentation level as method definitions (one level up from the insides of methods).\n",
    "* **Class attributes** are **shared by all instances** of that class. Evey newly created object will have the exact same class attributes with exact same values but diffrent values in the instance attributes.\n",
    "* **Class attributes** can be accessed through **self** keword as well as through the **CLASS_NAME** of that class.\n",
    "* **Class attributes** are often used to define **constants** which are closely associated with a particular class.\n",
    "* **Example:** In the above **PersonModified** class **TITLES** is the class attribute which was accessed as **self.TITLES[]** and **PersonModified.TITLES**."
   ]
  },
  {
   "cell_type": "markdown",
   "metadata": {},
   "source": [
    "### Let's have a look into the more modified version of the Person class: MoreModifiedPerson.py"
   ]
  },
  {
   "cell_type": "code",
   "execution_count": 45,
   "metadata": {
    "collapsed": false
   },
   "outputs": [
    {
     "name": "stdout",
     "output_type": "stream",
     "text": [
      "A Human being!\n",
      "Title for Female is: Mrs.\n",
      "\n",
      "\n",
      "Name: Mr. Imran\n",
      "Age: 22\n",
      "Gender: Male\n",
      "Address: Dhaka, Bangladesh.\n"
     ]
    }
   ],
   "source": [
    "class MoreModifiedPerson:\n",
    "    \n",
    "    TITLES = (\"Mr.\", \"Mrs.\")\n",
    "    \n",
    "    def __init__(self, name, age, gender, address):\n",
    "        self.name = name\n",
    "        self.age = age\n",
    "        self.gender = gender\n",
    "        self.address = address\n",
    "    \n",
    "    @classmethod                           # Decorator to create a class method\n",
    "    def get_a_title(cls, which_gender):  # First parameter of a class method is cls.\n",
    "        if which_gender is \"Male\":\n",
    "            return cls.TITLES[0]            # Class attributes are accessed through cls keyword.\n",
    "        else:\n",
    "            return cls.TITLES[1]\n",
    "    \n",
    "    @staticmethod                                   # Decorator to create a static method.\n",
    "    def get_common_name():                     # Static methods have no self / cls keyword as parameter.\n",
    "        print(\"A Human being!\")\n",
    "        \n",
    "    def show_information(self):\n",
    "        print(\"Name: {} {}\\n\"\n",
    "              \"Age: {}\\n\"\n",
    "              \"Gender: {}\\n\"\n",
    "              \"Address: {}\".format(MoreModifiedPerson.get_a_title(self.gender), self.name, self.age, self.gender, self.address))\n",
    "        \n",
    "if __name__ == '__main__':\n",
    "    \n",
    "    MoreModifiedPerson.get_common_name()                                        # Static methods can be accessed through the class name.\n",
    "    print(\"Title for Female is:\", MoreModifiedPerson.get_a_title(\"Female\"))   # Tesing title for a gender without creating an instance.\n",
    "    \n",
    "    print(\"\\n\")\n",
    "    \n",
    "    my_person_object = MoreModifiedPerson(\"Imran\", 22, \"Male\", \"Dhaka, Bangladesh.\")\n",
    "    my_person_object.show_information()"
   ]
  },
  {
   "cell_type": "markdown",
   "metadata": {},
   "source": [
    "**Class Method:**\n",
    "* **Class methods** are defined by using **@classmethod** decorator.\n",
    "* By convention a class methods have **cls** keyword as their first parameter.\n",
    "* If the class method is called from an **instance**, the **cls** parameter will contain the **instance object**, but if it is called from the **class** it will contain the **class object**. \n",
    "* By calling the parameter **cls** we remind ourselves that it is not guaranteed to have any instance attributes."
   ]
  },
  {
   "cell_type": "markdown",
   "metadata": {},
   "source": [
    "**What are class methods good for?**\n",
    "\n",
    "* Sometimes there are tasks associated with a class which we can perform using constants and other class attributes, without needing to create any class instances. If we had to use instance methods for these tasks, we would need to create an instance for no reason, which would be wasteful. **Example:** We used **MoreModifiedPerson.get_a_title(\"Female\")** to get the title for Female **without creating an instance** of the class.\n",
    "\n",
    "* Sometimes we write classes purely to group related constants together with functions which act on them – we **may never instantiate these classes at all.**\n",
    "\n",
    "* Sometimes it is useful to write a class method which creates an instance of the class after processing the input so that it is in the right format to be passed to the class constructor. This allows the constructor to be straightforward and not have to implement any complicated parsing or clean-up code. For **example** look at the Person class below:"
   ]
  },
  {
   "cell_type": "code",
   "execution_count": 42,
   "metadata": {
    "collapsed": true
   },
   "outputs": [],
   "source": [
    "class Person:\n",
    "    def __init__(self, name, surname, birthdate, address, telephone, email):\n",
    "        self.name = name\n",
    "        # (...)\n",
    "        \n",
    "    @classmethod\n",
    "    def from_text_file(cls, filename):      # extract all the parameters from the text file\n",
    "        return cls(* params)               # this is the same as calling Person( * params)"
   ]
  },
  {
   "cell_type": "markdown",
   "metadata": {},
   "source": [
    "**Static Method:**\n",
    "* "
   ]
  }
 ],
 "metadata": {
  "kernelspec": {
   "display_name": "Python 3",
   "language": "python",
   "name": "python3"
  },
  "language_info": {
   "codemirror_mode": {
    "name": "ipython",
    "version": 3
   },
   "file_extension": ".py",
   "mimetype": "text/x-python",
   "name": "python",
   "nbconvert_exporter": "python",
   "pygments_lexer": "ipython3",
   "version": "3.6.0"
  }
 },
 "nbformat": 4,
 "nbformat_minor": 2
}
